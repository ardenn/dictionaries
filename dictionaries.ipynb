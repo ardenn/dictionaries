{
 "cells": [
  {
   "cell_type": "markdown",
   "metadata": {},
   "source": [
    "## Introduction\n",
    "The python programming language implements a number of data structures natively. Lists, tuples, sets, dictionaries are but some of them. We will be looking at the dictionary data type in subsequent sections.\n",
    "### What are python dictionaries ?\n",
    "![dictionary image](dictionaries.jpg)\n",
    "\n",
    "A dictionary in python is a mapping object that maps keys to values, where the keys are unique within a collection and the values can hold any arbitrary value. In addition to being unique, keys are also required to be hashable. An object is said to be hashable if it has a hash value (implemented by a `__hash__()` method) that does not change during the object’s lifetime. Most commonly, we use immutable data types, such as strings, integers, and tuples (only if they contain similarly immutable types) as dictionary keys. A dictionary’s data is always enclosed by a pair of curly braces `{ }`.\n",
    "Typically dictionaries look like this:"
   ]
  },
  {
   "cell_type": "code",
   "execution_count": null,
   "metadata": {},
   "outputs": [],
   "source": [
    "my_dict = {\"first_name\":\"John\",\"last_name\":\"Snow\",\"age\":16,\"gender\":\"Male\"}"
   ]
  },
  {
   "cell_type": "markdown",
   "metadata": {},
   "source": [
    "We have created a dictionary named `my_dict` where each key-value pair is separated by a full colon, with the keys as:\n",
    "- `first_name`\n",
    "- `last_name`\n",
    "- `age`\n",
    "- `gender`\n",
    "\n",
    "The values from `my_dict` are:\n",
    "- `John`\n",
    "- `Snow`\n",
    "- `16`\n",
    "- `Male`\n"
   ]
  },
  {
   "cell_type": "markdown",
   "metadata": {},
   "source": [
    "### How different are dictionaries from other common data structures in python?\n",
    "Unlike sequenced data types like lists and tuples, where indexing is achieved using positional indices, dictionaries are indexed using their keys. Therefore, individual values can be accessed using these keys.\n",
    "### How similar are dictionaries to other data structures in other languages?\n",
    "Dictionaries are an implementation of [Associative Arrays](https://en.wikipedia.org/wiki/Associative_array). All Associative arrays have a structure of (key, value) pairs, where each key is unique for every collection. Other languages also have similar executions, such as:\n",
    "- Maps in Go\n",
    "- std::map in C++\n",
    "- Maps in Java\n",
    "- JavaScript objects\n",
    "\n",
    "### Use cases of dictionaries\n",
    "Typically dictionaries are used to store associative data, i.e data that is related. Examples include:\n",
    " - The attributes of an object.\n",
    " - A row of `SQL` data.\n",
    " \n",
    "In this particular scenario, we will be using using dictionaries to store job listing details from [Kaggle](https://www.kaggle.com/ardenn/brighter-monday-job-listings/data)\n",
    "\n",
    "## Dictionary Operations\n",
    "### Creating a Dictionary\n",
    "- To create an empty dictionary, we use a pair of curly braces with nothing between them\n"
   ]
  },
  {
   "cell_type": "code",
   "execution_count": null,
   "metadata": {},
   "outputs": [],
   "source": [
    "empty_dict = {}"
   ]
  },
  {
   "cell_type": "markdown",
   "metadata": {},
   "source": [
    "In the line above, we have created an empty dictionary named `empty_dict`."
   ]
  },
  {
   "cell_type": "markdown",
   "metadata": {},
   "source": [
    "- To create a dictionary with items,we use a pair of curly braces with the key-value pairs. We can now create a dictionary to represent the second row of data in the `jobs.csv` file."
   ]
  },
  {
   "cell_type": "code",
   "execution_count": null,
   "metadata": {},
   "outputs": [],
   "source": [
    "job1 = {\"title\":\"Production Manager\",\"location\":\"Rest of Kenya\",\"job_type\":\"Full Time\",\n",
    "             \"employer\":\"The African Talent Company (TATC)\",\"category\":\"Farming\"}"
   ]
  },
  {
   "cell_type": "markdown",
   "metadata": {},
   "source": [
    "We just created a dictionary with the keys `title`,` location`, `job_type`, `employer`, `category` and assigned it to the variable `job1`."
   ]
  },
  {
   "cell_type": "markdown",
   "metadata": {},
   "source": [
    "- Dictionaries can also be created using the `dict()` constructor. To do this we pass the constructor a sequence of key-value pairs. We could also pass in named arguments. Let's create a dictionary to represent the third row of data in the `jobs.csv` file, using both of these methods."
   ]
  },
  {
   "cell_type": "code",
   "execution_count": null,
   "metadata": {},
   "outputs": [],
   "source": [
    "# create an empty dictionary\n",
    "empty_property = dict()\n",
    "\n",
    "# create dictionary using a list of key-value tuples\n",
    "job2 = dict([(\"title\",\"Marketing & Business Development Manager\"),(\"location\",\"Mombasa\"),\\\n",
    "(\"job_type\",\"Full Time\"),\\\n",
    "(\"employer\",\"KUSCCO Limited (Kenya Union of Savings & Credit Co-operatives Limited)\"),\\\n",
    "(\"category\",\"Marketing & Communications\")])"
   ]
  },
  {
   "cell_type": "markdown",
   "metadata": {},
   "source": [
    "We passed a sequence, in this case a list of key-value tuples, to the `dict()` constructor to create our dictionary, and assigned it to the variable `job2`."
   ]
  },
  {
   "cell_type": "code",
   "execution_count": null,
   "metadata": {},
   "outputs": [],
   "source": [
    "# Using keyword arguments\n",
    "dict(title=\"Marketing & Business Development Manager\",location=\"Mombasa\",job_type=\"Full Time\",\n",
    "     employer=\"KUSCCO Limited (Kenya Union of Savings & Credit Co-operatives Limited)\",\n",
    "     category=\"Marketing & Communications\")"
   ]
  },
  {
   "cell_type": "markdown",
   "metadata": {},
   "source": [
    "Here, we created a dictionary using named arguments. The keys are the argument names, while the values are the argument values. It is however important to note that this method is only suitable when our keys are just simple strings."
   ]
  },
  {
   "cell_type": "markdown",
   "metadata": {},
   "source": [
    "### Accessing Items\n",
    "- As we mentioned earlier on, dictionaries are indexed using their keys.To access a particular value in a dictionary we use the indexing operator (key inside square brackets). \n",
    "- Similarly, we can use the `get()` method of dictionaries to get the value associated with a particular key. Let's use these methods to access the `title` from `job2`. "
   ]
  },
  {
   "cell_type": "code",
   "execution_count": null,
   "metadata": {},
   "outputs": [],
   "source": [
    "# Using key indexing\n",
    "job2[\"title\"] #return 'Marketing & Business Development Manager'\n",
    "\n",
    "# Using get() method\n",
    "job2.get(\"title\") #return 'Marketing & Business Development Manager'\n",
    "job2.get(\"salary\") #return None\n",
    "\n",
    "# Passing a second argument to get()\n",
    "job2.get(\"salary\", 5000) #return 5000\n",
    "\n",
    "# Using the in operator\n",
    "\"salary\" in job2 #returns False\n",
    "\"title\" in job2 #returns True"
   ]
  },
  {
   "cell_type": "markdown",
   "metadata": {},
   "source": [
    "- In the example above we use indexing to access the `title` from `job2`. Alternatively, we could use `get()`  to access the `title` and `salary` values. \n",
    "- In the event that we attempt to access a key that doesn't exist by indexing, we will get a `KeyError`. To counter this, we use the `get()` method, and pass it the key name. `get()` also takes in an optional second argument to be returned if the key is not found. \n",
    "- However, `job2` doesn't have a `salary` key and as such the value is `None`. However, when we add a second argument, to `get()`, the return value is now `5000` instead of `None`.\n",
    "- Suppose we do not want to use `get()`, we could check the availability of a certain key using the `in` operator."
   ]
  },
  {
   "cell_type": "markdown",
   "metadata": {},
   "source": [
    "### Adding and Modifying Items\n",
    "Dictionaries can be modified directly using the keys or using the `update()` method. `update()` takes in a dictionary with the key-value pairs to be modified or added. For our demonstration, let's:\n",
    "- add a new item (salary) to `job2` with a value of 10000, \n",
    "- modify the `job_type` to be \"Part time\", \n",
    "- update the `salary` to 20000 and\n",
    "- update the dictionary to include a new item (available) with a value of `True`."
   ]
  },
  {
   "cell_type": "code",
   "execution_count": null,
   "metadata": {},
   "outputs": [],
   "source": [
    "# Adding a new entry for salary using the index\n",
    "job2[\"salary\"] = 10000\n",
    "\n",
    "# Modifying the entry for job_type using the index\n",
    "job2[\"job_type\"] = \"Part time\"\n",
    "\n",
    "# Modifying the salary entry using update\n",
    "job2.update({\"salary\":20000})\n",
    "\n",
    "# Adding the available entry using update\n",
    "job2.update({\"available\":True})"
   ]
  },
  {
   "cell_type": "markdown",
   "metadata": {},
   "source": [
    "To add a new entry, we use syntax similar to indexing. If the key exists, then the value will be modified, however, if the key doesn't exist, a new entry will be created with the specified key and value. \n",
    "- In the first example we assigned a value of 10000 to the `salary` key, but since that `salary` doesn't exist, a new entry is created, with that value. \n",
    "- For the second scenario, the `job_type` key exists, the value is modified to \"Part time\".\n",
    "- Next, we use the `update()` method to change the `salary` value to 20000, since `salary` is already a key in the dictionary.\n",
    "- Finally, we apply update to the dictionary, a new entry is created with a key of `available` and value of `True`."
   ]
  },
  {
   "cell_type": "markdown",
   "metadata": {},
   "source": [
    "### Removing Items\n",
    " We can now remove the just created `salary` entry from `job2`, and remove everything from `job1`."
   ]
  },
  {
   "cell_type": "code",
   "execution_count": null,
   "metadata": {},
   "outputs": [],
   "source": [
    "del job2[\"salary\"]\n",
    "del job2[\"available\"]\n",
    "print(job2) #return a dictionary without 'salary' and 'available' entries\n",
    "\n",
    "job1.clear()\n",
    "print(job1) #return an empty dictionary\n",
    "\n",
    "del job1"
   ]
  },
  {
   "cell_type": "markdown",
   "metadata": {},
   "source": [
    "- To remove the entry associated with the `salary` and `available` keys from `job2`, we use the `del` keyword. Now if we go ahead and print `job2`, the `salary`,`available` entries are gone.\n",
    "- To remove all items from `job1` we use the `clear()` method. Printing `job1` afterwards gets us an empty dictionary.\n",
    "- If we don't need a dictionary anymore, say `job1`, we use the `del` keyword to delete it. Now if we print `job1` we get a `NameError` since `job1` is no longer defined."
   ]
  },
  {
   "cell_type": "markdown",
   "metadata": {},
   "source": [
    "### Iterating Through Dictionaries\n",
    "Dictionaries are iterable, and we can iterate through them in 3 different ways:\n",
    " - `dict.values()` - this returns an iterable of the dictionary's values.\n",
    " - `dict.keys()` - this returns an iterable of the dictionary's keys.\n",
    " - `dict.items()` - this returns an iterable of the dictionary's (key,value) pairs.\n",
    " \n",
    "Let's iterate over `job2` using a `for-loop` using all the three methods."
   ]
  },
  {
   "cell_type": "code",
   "execution_count": null,
   "metadata": {},
   "outputs": [],
   "source": [
    "# Using values()\n",
    "for val in job2.values():\n",
    "    print(val) #prints the values of job2\n",
    "    \n",
    "# Using keys()\n",
    "for key in job2.keys():\n",
    "    print(key) #prints the keys of job2\n",
    "    \n",
    "# Using items()\n",
    "for key,val in job2.items():\n",
    "    print(key, val) #prints the keys and values of job2\n",
    "    \n",
    "for _ in job2:\n",
    "    print(_) #prints the keys of job2"
   ]
  },
  {
   "cell_type": "markdown",
   "metadata": {},
   "source": [
    "- First, we loop through the iterable `job2.values()` and print out the value during each iteration.\n",
    "- Secondly, we iterate through `job2.keys()` while printing out the key. This is the default behaviour when we loop through the entire dictionary, without specifying whether we want the keys, values or items.\n",
    "- Thirdly, we loop through the keys and values simultaneously. We include both key and value in our for-loop constructor since `job.items()` yields a tuple of key and value during each iteration. Our loop therefore prints out the pair at each step.\n",
    "- The last example produces an output similar to the second."
   ]
  },
  {
   "cell_type": "markdown",
   "metadata": {},
   "source": [
    "### Sorting Dictionaries\n",
    "Borrowing from our description of dictionaries earlier, this data type in meant to be unordered, and doesn't come with the sorting functionality. Calling the `sorted()` function and passing it a dictionary only returns a list of the keys in a sorted order.\n",
    "\n",
    "If we use the `items()` iterable we could sort the items of our dictionary as we please. However, this doesn't give us our original dictionary, but an array of key-value tuples in a sorted order."
   ]
  },
  {
   "cell_type": "code",
   "execution_count": null,
   "metadata": {},
   "outputs": [],
   "source": [
    "# Using sorted() to sort a dictionary's items on the keys\n",
    "sorted(job2.items(),key=lambda item:item[0])"
   ]
  },
  {
   "cell_type": "markdown",
   "metadata": {},
   "source": [
    "In this example we use python's inbuilt `sorted()` function which takes in an iterable (our dictionary's items). The key argument of the `sorted()` function instructs `sorted()` to use the value at index 0 for sorting. Similarly, to sort by the values, we use index 1 instead of index 0."
   ]
  },
  {
   "cell_type": "markdown",
   "metadata": {},
   "source": [
    "### Other Dictionary Methods\n",
    "Dictionaries have other methods that could be used on demand. To read up further on these, please consult the [python documentation](https://docs.python.org/3/library/stdtypes.html#typesmapping). Here are some other useful methods:\n",
    "- `pop(key,default)` - deletes the key `key` and returns it, or returns an optional `default` when the key doesn't exist.\n",
    "- `len(d)` - returns the number of items in a dictionary `d`.\n",
    "- `copy()` - returns a shallow copy of the original. This shallow copy has similar references to the original, and not copies of the original's items. \n",
    "- `setdefault(key,default)` - returns the value of `key` if in the dictionary, or sets the new key with an optional `default` as its value then returns the value."
   ]
  },
  {
   "cell_type": "markdown",
   "metadata": {},
   "source": [
    "## Speeding Up your Code with Dictionaries\n",
    "### Dictionary Unpacking\n",
    "Dictionary unpacking involves destructuring a dictionary into individual keyword arguments with values. This is especially useful for cases that involve supplying multiple keyword arguments for example in function calls. To implement this functionality we use the iterable unpacking operator (`**`). \n",
    "\n",
    "Let's use this approach in the constructor function of a class. "
   ]
  },
  {
   "cell_type": "code",
   "execution_count": null,
   "metadata": {},
   "outputs": [],
   "source": [
    "from jobs import Job\n",
    "\n",
    "# Creating a job object without unpacking\n",
    "Job(\"Marketing & Business Development Manager\",\"Mombasa\",\"Full Time\",\\\n",
    "     \"KUSCCO Limited (Kenya Union of Savings & Credit Co-operatives Limited)\",\\\n",
    "     \"Marketing & Communications\")\n",
    "\n",
    "# Creating a job object with unpacking\n",
    "Job(**job2)"
   ]
  },
  {
   "cell_type": "markdown",
   "metadata": {},
   "source": [
    "To instantiate a new `Job` object, traditionally, we would need to pass in all the required arguments. However, with unpacking, we just pass in a dictionary with the `**` operator before it. The operator unpacks the dictionary in to an arbitrary number of named arguments. This approach is much cleaner and involves less code."
   ]
  },
  {
   "cell_type": "markdown",
   "metadata": {},
   "source": [
    "## Downside Of Using Dictionaries\n",
    "Compared to lists and tuples, dictionaries take up more space in memory, since they need to store both the key and value, as opposed to just values. Therefore, dictionaries should only be used in cases where we have associative data, that would lose meaning if stored in lists.\n",
    "\n",
    "### When not to use dictionaries\n",
    "- Since dictionaries are unordered, it would not be useful for us to use it to store data that is strictly arranged.\n",
    "- Dictionaries are also mutable, and not suitable for storing data than shouldn't be modified in place.\n",
    "\n",
    "### How not to use dictionaries\n",
    "Dictionaries are well-designed to let us find a value instantly without necessarily having to search through the entire dictionary, hence we should not use loops for such an operation."
   ]
  },
  {
   "cell_type": "code",
   "execution_count": null,
   "metadata": {},
   "outputs": [],
   "source": [
    "# How not to search for a value and return it\n",
    "key_i_need = \"location\"\n",
    "target = \"\"\n",
    "for key in job2:\n",
    "    if key == key_i_need:\n",
    "        target = job2[key]\n",
    "        \n",
    "# How to search efficiently\n",
    "target = job2.get(\"location\")"
   ]
  },
  {
   "cell_type": "markdown",
   "metadata": {},
   "source": [
    "We have a variable `key_i_need` containing the key we want to search for. We then use a for loop to traverse the collection, comparing the key at each step with our variable. If we get a match, we assign that key's value to the variable `target`. This is the wrong approach. We should instead use `get()`, and pass it the desired key."
   ]
  },
  {
   "cell_type": "markdown",
   "metadata": {},
   "source": [
    "## Performance Tradeoffs\n",
    "In this section, we will be comparing the space-time trade-offs between dictionaries and objects. We will use the `timeit` module and `getsizeof` function to determine the time and space aspects. The operations we will be testing are:\n",
    "- Accessing an entry in a dictionary versus accessing a field in a object.\n",
    "- Adding a new entry to a dictionary versus adding a new field to an object.\n",
    "\n",
    "In terms of space, we will be testing the following operations:\n",
    "- Size of object classes.\n",
    "- Size of the default object.\n",
    "- Size of an empty dictionary.\n",
    "- Size of dictionary and object after adding one entry and one field respectively."
   ]
  },
  {
   "cell_type": "markdown",
   "metadata": {},
   "source": [
    "### Speed Tests\n",
    "#### Accessing a single entry from a dictionary vs accessing a field in a object"
   ]
  },
  {
   "cell_type": "code",
   "execution_count": null,
   "metadata": {},
   "outputs": [],
   "source": [
    "import timeit\n",
    "# Accessing entry using indexing operator\n",
    "timeit.timeit('string=\"Random String\"+job3[\"employer\"]',setup='job3 = {\"title\":\"Loans Manager\",\"location\":\"Mombasa\",\\\n",
    "\"job_type\":\"Full Time\",\"employer\":\"KUSCCO Limited (Kenya Union of Savings & Credit Co-operatives Limited)\",\\\n",
    "\"category\":\"Accounting & Auditing\"}',number=10000)"
   ]
  },
  {
   "cell_type": "code",
   "execution_count": null,
   "metadata": {},
   "outputs": [],
   "source": [
    "# Accessing entry using get() method\n",
    "timeit.timeit('string=\"Random String\"+job3.get(\"employer\")',setup='job3 = {\"title\":\"Loans Manager\",\"location\":\"Mombasa\",\\\n",
    "\"job_type\":\"Full Time\",\"employer\":\"KUSCCO Limited (Kenya Union of Savings & Credit Co-operatives Limited)\",\\\n",
    "\"category\":\"Accounting & Auditing\"}',number=10000)"
   ]
  },
  {
   "cell_type": "code",
   "execution_count": null,
   "metadata": {},
   "outputs": [],
   "source": [
    "# Accessing object field using namespace operator\n",
    "timeit.timeit('string=\"Random String\"+job3.employer',setup='from jobs import Job; job3 = Job(\"Loans Manager\",\"Mombasa\",\"Full Time\",\\\n",
    "        \"KUSCCO Limited (Kenya Union of Savings & Credit Co-operatives Limited)\",\\\n",
    "        \"Accounting & Auditing\")',number=10000)"
   ]
  },
  {
   "cell_type": "markdown",
   "metadata": {},
   "source": [
    "For the three tests, we look at the time it takes for each of the operations to execute 10000 loops. Based on the output, we can rank them as follows:\n",
    "- Fastest - accessing an entry from a dictionary using indexing operator\n",
    "- Faster - accessing a field from an object using the namespace operator\n",
    "- Slowest - accessing an entry from a dictionary using `get()` method"
   ]
  },
  {
   "cell_type": "markdown",
   "metadata": {},
   "source": [
    "#### Adding a new entry to a dictionary vs adding a new field to an object"
   ]
  },
  {
   "cell_type": "code",
   "execution_count": null,
   "metadata": {},
   "outputs": [],
   "source": [
    "# Adding a new entry using indexing and assignment operators\n",
    "timeit.timeit('job3[\"salary\"]=50000',setup='job3 = {\"title\":\"Loans Manager\",\"location\":\"Mombasa\",\\\n",
    "\"job_type\":\"Full Time\",\"employer\":\"KUSCCO Limited (Kenya Union of Savings & Credit Co-operatives Limited)\",\\\n",
    "\"category\":\"Accounting & Auditing\"}',number=10000)"
   ]
  },
  {
   "cell_type": "code",
   "execution_count": null,
   "metadata": {},
   "outputs": [],
   "source": [
    "# Adding a new entry using update() method\n",
    "timeit.timeit('job3.update({\"salary\":50000})',setup='job3 = {\"title\":\"Loans Manager\",\"location\":\"Mombasa\",\\\n",
    "\"job_type\":\"Full Time\",\"employer\":\"KUSCCO Limited (Kenya Union of Savings & Credit Co-operatives Limited)\",\\\n",
    "\"category\":\"Accounting & Auditing\"}',number=10000)"
   ]
  },
  {
   "cell_type": "code",
   "execution_count": null,
   "metadata": {},
   "outputs": [],
   "source": [
    "# Adding a new field to the object\n",
    "timeit.timeit('job3.salary = 50000',setup='from jobs import Job; job3 = Job(\"Loans Manager\",\"Mombasa\",\\\n",
    "\"Full Time\",\\\"KUSCCO Limited (Kenya Union of Savings & Credit Co-operatives Limited)\",\\\n",
    "\"Accounting & Auditing\")',number=10000)"
   ]
  },
  {
   "cell_type": "markdown",
   "metadata": {},
   "source": [
    "For this round of tests, we measure the time it takes to add a new entry to an existing dictionary and the time it takes to add a new field to an object. From the results we can rank the operations as:\n",
    "- Fastest - adding a new entry to a dictionary using the indexing and assignment operators\n",
    "- Faster - adding a new field to an object\n",
    "- Slowest - updating a dictionary with a new entry\n",
    "\n",
    "Overally, as far as time is concerned, we can tell that dictionary operations are faster than object operations."
   ]
  },
  {
   "cell_type": "markdown",
   "metadata": {},
   "source": [
    "## Space Tests\n",
    "Let's setup test evironment, by initialising a `Job` object and creating a new dictionary with the same data."
   ]
  },
  {
   "cell_type": "code",
   "execution_count": null,
   "metadata": {},
   "outputs": [],
   "source": [
    "# create a job object\n",
    "from jobs import Job\n",
    "job_object = Job(\"Loans Manager\",\"Mombasa\",\"Full Time\",\\\n",
    "        \"KUSCCO Limited (Kenya Union of Savings & Credit Co-operatives Limited)\",\\\n",
    "        \"Accounting & Auditing\")\n",
    "\n",
    "# Create a job dictionary\n",
    "job_dict = {\"title\":\"Loans Manager\",\"location\":\"Mombasa\",\\\n",
    "\"job_type\":\"Full Time\",\"employer\":\"KUSCCO Limited (Kenya Union of Savings & Credit Co-operatives Limited)\",\\\n",
    "\"category\":\"Accounting & Auditing\"}\n",
    "\n",
    "# show that the internal values are the same\n",
    "job_dict == job_object.__dict__"
   ]
  },
  {
   "cell_type": "markdown",
   "metadata": {},
   "source": [
    "We will use `getsizeof()` function to measure the size of our objects, and compare them. `getsizeof()` only measures the size of an object, excluding its fields. However, for dictionaries, it includes the size of the hash table."
   ]
  },
  {
   "cell_type": "code",
   "execution_count": null,
   "metadata": {},
   "outputs": [],
   "source": [
    "from sys import getsizeof"
   ]
  },
  {
   "cell_type": "code",
   "execution_count": null,
   "metadata": {},
   "outputs": [],
   "source": [
    "# Size of Job class\n",
    "getsizeof(Job)"
   ]
  },
  {
   "cell_type": "code",
   "execution_count": null,
   "metadata": {},
   "outputs": [],
   "source": [
    "# Size of original Job() object\n",
    "getsizeof(Job())"
   ]
  },
  {
   "cell_type": "code",
   "execution_count": null,
   "metadata": {},
   "outputs": [],
   "source": [
    "# Size of job_object\n",
    "getsizeof(job_object)"
   ]
  },
  {
   "cell_type": "code",
   "execution_count": null,
   "metadata": {},
   "outputs": [],
   "source": [
    "# Size of dict object\n",
    "getsizeof(dict)"
   ]
  },
  {
   "cell_type": "code",
   "execution_count": null,
   "metadata": {},
   "outputs": [],
   "source": [
    "# Size of empty dictionary {}\n",
    "getsizeof({})"
   ]
  },
  {
   "cell_type": "code",
   "execution_count": null,
   "metadata": {},
   "outputs": [],
   "source": [
    "# Size of job_dict\n",
    "getsizeof(job_dict)"
   ]
  },
  {
   "cell_type": "markdown",
   "metadata": {},
   "source": [
    "From our results, we can clearly tell that:\n",
    "- The `dict` class has a smaller memory footprint (400) compared to the `Job` class (1184).\n",
    "- The `job_object` has a smaller size (56) compared to `job_dict` (240)"
   ]
  },
  {
   "cell_type": "markdown",
   "metadata": {},
   "source": [
    "### Adding one entry to the original dictionary"
   ]
  },
  {
   "cell_type": "code",
   "execution_count": null,
   "metadata": {},
   "outputs": [],
   "source": [
    "# Size of job_dict with one additional entry using update()\n",
    "job_dict2 = job_dict.copy()\n",
    "job_dict2.update({'salary':50000})\n",
    "getsizeof(job_dict2)"
   ]
  },
  {
   "cell_type": "code",
   "execution_count": null,
   "metadata": {},
   "outputs": [],
   "source": [
    "# Size of job_dict with one additional entry using index and assignment operator\n",
    "job_dict['salary']=50000\n",
    "getsizeof(job_dict)"
   ]
  },
  {
   "cell_type": "markdown",
   "metadata": {},
   "source": [
    "### Adding one extra field to the original Job class\n",
    "`Job2` is an implementation of `Job` with one extra field"
   ]
  },
  {
   "cell_type": "code",
   "execution_count": null,
   "metadata": {},
   "outputs": [],
   "source": [
    "from jobs import Job2"
   ]
  },
  {
   "cell_type": "code",
   "execution_count": null,
   "metadata": {},
   "outputs": [],
   "source": [
    "# Size of Job2 class - with one extra field\n",
    "getsizeof(Job2)"
   ]
  },
  {
   "cell_type": "code",
   "execution_count": null,
   "metadata": {},
   "outputs": [],
   "source": [
    "# Size of Job2 default object - with one extra field\n",
    "getsizeof(Job2())"
   ]
  },
  {
   "cell_type": "markdown",
   "metadata": {},
   "source": [
    "### Adding two extra fields to the original Job class\n",
    "`Job3` in another implementation of `Job` with two additional fields"
   ]
  },
  {
   "cell_type": "code",
   "execution_count": null,
   "metadata": {},
   "outputs": [],
   "source": [
    "from jobs import Job3"
   ]
  },
  {
   "cell_type": "code",
   "execution_count": null,
   "metadata": {},
   "outputs": [],
   "source": [
    "# Size of Job3 class - with two extra fields\n",
    "getsizeof(Job3)"
   ]
  },
  {
   "cell_type": "code",
   "execution_count": null,
   "metadata": {},
   "outputs": [],
   "source": [
    "# Size of Job3 default object - with two extra fields\n",
    "getsizeof(Job3())"
   ]
  },
  {
   "cell_type": "markdown",
   "metadata": {},
   "source": [
    "From our numbers above, we can tell that objects tend to take up smaller memory spaces compared to dictionaries, despite the class definitions being rather large. Dictionaries appear to have a bigger memory fingerprint due to their hash tables which are re-evaluated during every add operation."
   ]
  },
  {
   "cell_type": "markdown",
   "metadata": {},
   "source": [
    "## Conclusion\n",
    "Dictionaries come in very handy for regular python usage. They are suitable for use with unordered data that relies on relations. Caution should however be exercised to ensure we do not use dictionaries in the wrong way and end up slowing down execution of our code. For further reading please refer to the official python documentation on [mapping types](https://docs.python.org/3/library/stdtypes.html#typesmapping)."
   ]
  }
 ],
 "metadata": {
  "kernelspec": {
   "display_name": "Python 3",
   "language": "python",
   "name": "python3"
  },
  "language_info": {
   "codemirror_mode": {
    "name": "ipython",
    "version": 3
   },
   "file_extension": ".py",
   "mimetype": "text/x-python",
   "name": "python",
   "nbconvert_exporter": "python",
   "pygments_lexer": "ipython3",
   "version": "3.6.5"
  }
 },
 "nbformat": 4,
 "nbformat_minor": 2
}
